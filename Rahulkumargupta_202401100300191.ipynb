{
  "nbformat": 4,
  "nbformat_minor": 0,
  "metadata": {
    "colab": {
      "provenance": []
    },
    "kernelspec": {
      "name": "python3",
      "display_name": "Python 3"
    },
    "language_info": {
      "name": "python"
    }
  },
  "cells": [
    {
      "cell_type": "code",
      "execution_count": 2,
      "metadata": {
        "colab": {
          "base_uri": "https://localhost:8080/"
        },
        "id": "fvklWy_vd5Z6",
        "outputId": "1555c41d-d6c1-42d9-e76c-465926747cd9"
      },
      "outputs": [
        {
          "output_type": "stream",
          "name": "stdout",
          "text": [
            "True: Setosa, Predicted: Unknown\n",
            "True: Versicolor, Predicted: Unknown\n",
            "True: Virginica, Predicted: Setosa\n",
            "True: Versicolor, Predicted: Unknown\n",
            "True: Setosa, Predicted: Unknown\n",
            "True: Virginica, Predicted: Unknown\n",
            "True: Setosa, Predicted: Setosa\n",
            "True: Virginica, Predicted: Unknown\n",
            "True: Setosa, Predicted: Virginica\n",
            "True: Virginica, Predicted: Unknown\n",
            "True: Virginica, Predicted: Unknown\n",
            "True: Versicolor, Predicted: Setosa\n",
            "True: Versicolor, Predicted: Versicolor\n",
            "True: Virginica, Predicted: Unknown\n",
            "True: Setosa, Predicted: Setosa\n",
            "True: Virginica, Predicted: Unknown\n",
            "True: Setosa, Predicted: Virginica\n",
            "True: Versicolor, Predicted: Virginica\n",
            "True: Versicolor, Predicted: Versicolor\n",
            "True: Setosa, Predicted: Virginica\n",
            "\n",
            "Accuracy: 20.00%\n"
          ]
        }
      ],
      "source": [
        "# Define the dataset\n",
        "data = [\n",
        "    [7.303274553, 2.475025253, 2.176048615, 0.695002979, 'Setosa'],\n",
        "    [7.556927655, 2.987381009, 1.921584622, 1.172614805, 'Versicolor'],\n",
        "    [5.254016374, 2.093516024, 3.672563876, 0.550423563, 'Virginica'],\n",
        "    [6.409620272, 2.211041581, 1.812868616, 1.745372348, 'Versicolor'],\n",
        "    [7.684009282, 4.056478761, 4.244270339, 0.772147812, 'Setosa'],\n",
        "    [6.422517726, 4.032260738, 1.859477867, 1.559467631, 'Virginica'],\n",
        "    [7.841052714, 4.047467666, 1.686771972, 0.455375349, 'Setosa'],\n",
        "    [5.369546145, 4.001910728, 2.034979754, 1.514997694, 'Virginica'],\n",
        "    [7.485555011, 2.1578975, 6.384229363, 2.42567448, 'Setosa'],\n",
        "    [4.781220299, 3.71564794, 3.718518068, 0.967480314, 'Virginica'],\n",
        "    [6.163901635, 2.208071681, 1.653575827, 1.818660006, 'Virginica'],\n",
        "    [7.271711491, 2.103083754, 5.983380102, 0.499022342, 'Versicolor'],\n",
        "    [4.668608383, 2.359761973, 5.406349138, 1.467767093, 'Versicolor'],\n",
        "    [7.880377471, 2.032034463, 4.92393886, 1.254959596, 'Virginica'],\n",
        "    [5.161007082, 2.10882377, 2.248808105, 0.10821174, 'Setosa'],\n",
        "    [7.866695605, 3.148141876, 2.835834842, 0.989854885, 'Virginica'],\n",
        "    [5.408765531, 3.95800881, 6.424216666, 2.340494975, 'Setosa'],\n",
        "    [5.850162368, 2.474045174, 3.43553309, 1.55365103, 'Versicolor'],\n",
        "    [7.82776353, 2.372291678, 5.968919023, 1.446512336, 'Versicolor'],\n",
        "    [6.650334851, 2.665678693, 3.866596082, 1.834436922, 'Setosa']\n",
        "]\n",
        "\n",
        "# Define a function to classify the species based on rules\n",
        "def classify_iris(sepal_length, sepal_width, petal_length, petal_width):\n",
        "    if petal_width < 0.6:\n",
        "        return 'Setosa'\n",
        "    elif petal_length >= 5.0 and petal_width < 1.5:\n",
        "        return 'Versicolor'\n",
        "    elif petal_length >= 3.0 and petal_width >= 1.5:\n",
        "        return 'Virginica'\n",
        "    else:\n",
        "        return 'Unknown'\n",
        "\n",
        "# Test the function on the dataset\n",
        "correct = 0\n",
        "total = len(data)\n",
        "\n",
        "for row in data:\n",
        "    sepal_length, sepal_width, petal_length, petal_width, true_species = row\n",
        "    predicted_species = classify_iris(sepal_length, sepal_width, petal_length, petal_width)\n",
        "    if predicted_species == true_species:\n",
        "        correct += 1\n",
        "    print(f\"True: {true_species}, Predicted: {predicted_species}\")\n",
        "\n",
        "# Calculate accuracy\n",
        "accuracy = (correct / total) * 100\n",
        "print(f\"\\nAccuracy: {accuracy:.2f}%\")"
      ]
    }
  ]
}